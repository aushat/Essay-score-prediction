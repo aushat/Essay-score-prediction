{
 "cells": [
  {
   "cell_type": "markdown",
   "id": "ae01020c",
   "metadata": {},
   "source": [
    "# F78DS Data Science Life Cycle  \n",
    "## Coursework 2  \n",
    "\n",
    "**Fathima Aushat Azaar**  \n",
    "H00453164 \n",
    "\n",
    "*30th March 2025* "
   ]
  },
  {
   "cell_type": "markdown",
   "id": "a746cbe8",
   "metadata": {},
   "source": [
    "## 1. Introduction"
   ]
  },
  {
   "cell_type": "markdown",
   "id": "c461b04a",
   "metadata": {},
   "source": [
    "For this assignment since the data wrangling part has been done for us we will approach this project starting with supervised learning, classification, Naive Bayes (NB) algorithm and predicting while giving a brief description of each of the main steps being done. In a more general way, this coursework applies supervised machine learning to predict essay scores based on structural features. The process includes exploring the dataset, selecting and normalizing features, and training classification models such as Naive Bayes and Random Forest. Model performance is evaluated using metrics like the Confusion Matrix and Quadratic Weighted Kappa (QWK), with predictions submitted to an internal Kaggle competition. "
   ]
  },
  {
   "cell_type": "markdown",
   "id": "79ef27b2",
   "metadata": {},
   "source": [
    "### 1.2 Importing Libraries"
   ]
  },
  {
   "cell_type": "code",
   "execution_count": 1,
   "id": "fca83ddb",
   "metadata": {},
   "outputs": [],
   "source": [
    "import pandas as pd  # in order to read the files and do further data manipulation\n",
    "import matplotlib.pyplot as plt  # in order to visualize the data in graphs, charts and plots\n",
    "import seaborn as sns  # to visualize data better in graphs, plots, etc\n",
    "import numpy as np  # in order to perform numerical operations and statistical calculations\n"
   ]
  },
  {
   "cell_type": "code",
   "execution_count": 2,
   "id": "d385ea49",
   "metadata": {},
   "outputs": [],
   "source": [
    "df = pd.read_csv(\"F78DS-Essay-Features.csv\")"
   ]
  },
  {
   "cell_type": "code",
   "execution_count": 3,
   "id": "9ed27990",
   "metadata": {},
   "outputs": [
    {
     "data": {
      "text/html": [
       "<div>\n",
       "<style scoped>\n",
       "    .dataframe tbody tr th:only-of-type {\n",
       "        vertical-align: middle;\n",
       "    }\n",
       "\n",
       "    .dataframe tbody tr th {\n",
       "        vertical-align: top;\n",
       "    }\n",
       "\n",
       "    .dataframe thead th {\n",
       "        text-align: right;\n",
       "    }\n",
       "</style>\n",
       "<table border=\"1\" class=\"dataframe\">\n",
       "  <thead>\n",
       "    <tr style=\"text-align: right;\">\n",
       "      <th></th>\n",
       "      <th>essayid</th>\n",
       "      <th>chars</th>\n",
       "      <th>words</th>\n",
       "      <th>commas</th>\n",
       "      <th>apostrophes</th>\n",
       "      <th>punctuations</th>\n",
       "      <th>avg_word_length</th>\n",
       "      <th>sentences</th>\n",
       "      <th>questions</th>\n",
       "      <th>avg_word_sentence</th>\n",
       "      <th>POS</th>\n",
       "      <th>POS/total_words</th>\n",
       "      <th>prompt_words</th>\n",
       "      <th>prompt_words/total_words</th>\n",
       "      <th>synonym_words</th>\n",
       "      <th>synonym_words/total_words</th>\n",
       "      <th>unstemmed</th>\n",
       "      <th>stemmed</th>\n",
       "      <th>score</th>\n",
       "    </tr>\n",
       "  </thead>\n",
       "  <tbody>\n",
       "    <tr>\n",
       "      <th>0</th>\n",
       "      <td>1457</td>\n",
       "      <td>2153</td>\n",
       "      <td>426</td>\n",
       "      <td>14</td>\n",
       "      <td>6</td>\n",
       "      <td>0</td>\n",
       "      <td>5.053991</td>\n",
       "      <td>16</td>\n",
       "      <td>0</td>\n",
       "      <td>26.625000</td>\n",
       "      <td>423.995272</td>\n",
       "      <td>0.995294</td>\n",
       "      <td>207</td>\n",
       "      <td>0.485915</td>\n",
       "      <td>105</td>\n",
       "      <td>0.246479</td>\n",
       "      <td>424</td>\n",
       "      <td>412</td>\n",
       "      <td>4</td>\n",
       "    </tr>\n",
       "    <tr>\n",
       "      <th>1</th>\n",
       "      <td>503</td>\n",
       "      <td>1480</td>\n",
       "      <td>292</td>\n",
       "      <td>9</td>\n",
       "      <td>7</td>\n",
       "      <td>0</td>\n",
       "      <td>5.068493</td>\n",
       "      <td>11</td>\n",
       "      <td>0</td>\n",
       "      <td>26.545455</td>\n",
       "      <td>290.993103</td>\n",
       "      <td>0.996552</td>\n",
       "      <td>148</td>\n",
       "      <td>0.506849</td>\n",
       "      <td>77</td>\n",
       "      <td>0.263699</td>\n",
       "      <td>356</td>\n",
       "      <td>345</td>\n",
       "      <td>4</td>\n",
       "    </tr>\n",
       "    <tr>\n",
       "      <th>2</th>\n",
       "      <td>253</td>\n",
       "      <td>3964</td>\n",
       "      <td>849</td>\n",
       "      <td>19</td>\n",
       "      <td>26</td>\n",
       "      <td>1</td>\n",
       "      <td>4.669022</td>\n",
       "      <td>49</td>\n",
       "      <td>2</td>\n",
       "      <td>17.326531</td>\n",
       "      <td>843.990544</td>\n",
       "      <td>0.994100</td>\n",
       "      <td>285</td>\n",
       "      <td>0.335689</td>\n",
       "      <td>130</td>\n",
       "      <td>0.153121</td>\n",
       "      <td>750</td>\n",
       "      <td>750</td>\n",
       "      <td>4</td>\n",
       "    </tr>\n",
       "    <tr>\n",
       "      <th>3</th>\n",
       "      <td>107</td>\n",
       "      <td>988</td>\n",
       "      <td>210</td>\n",
       "      <td>8</td>\n",
       "      <td>7</td>\n",
       "      <td>0</td>\n",
       "      <td>4.704762</td>\n",
       "      <td>12</td>\n",
       "      <td>0</td>\n",
       "      <td>17.500000</td>\n",
       "      <td>207.653784</td>\n",
       "      <td>0.988828</td>\n",
       "      <td>112</td>\n",
       "      <td>0.533333</td>\n",
       "      <td>62</td>\n",
       "      <td>0.295238</td>\n",
       "      <td>217</td>\n",
       "      <td>209</td>\n",
       "      <td>3</td>\n",
       "    </tr>\n",
       "    <tr>\n",
       "      <th>4</th>\n",
       "      <td>1450</td>\n",
       "      <td>3139</td>\n",
       "      <td>600</td>\n",
       "      <td>13</td>\n",
       "      <td>8</td>\n",
       "      <td>0</td>\n",
       "      <td>5.231667</td>\n",
       "      <td>24</td>\n",
       "      <td>1</td>\n",
       "      <td>25.000000</td>\n",
       "      <td>594.652150</td>\n",
       "      <td>0.991087</td>\n",
       "      <td>255</td>\n",
       "      <td>0.425000</td>\n",
       "      <td>165</td>\n",
       "      <td>0.275000</td>\n",
       "      <td>702</td>\n",
       "      <td>677</td>\n",
       "      <td>4</td>\n",
       "    </tr>\n",
       "  </tbody>\n",
       "</table>\n",
       "</div>"
      ],
      "text/plain": [
       "   essayid  chars  words  commas  apostrophes  punctuations  avg_word_length  \\\n",
       "0     1457   2153    426      14            6             0         5.053991   \n",
       "1      503   1480    292       9            7             0         5.068493   \n",
       "2      253   3964    849      19           26             1         4.669022   \n",
       "3      107    988    210       8            7             0         4.704762   \n",
       "4     1450   3139    600      13            8             0         5.231667   \n",
       "\n",
       "   sentences  questions  avg_word_sentence         POS  POS/total_words  \\\n",
       "0         16          0          26.625000  423.995272         0.995294   \n",
       "1         11          0          26.545455  290.993103         0.996552   \n",
       "2         49          2          17.326531  843.990544         0.994100   \n",
       "3         12          0          17.500000  207.653784         0.988828   \n",
       "4         24          1          25.000000  594.652150         0.991087   \n",
       "\n",
       "   prompt_words  prompt_words/total_words  synonym_words  \\\n",
       "0           207                  0.485915            105   \n",
       "1           148                  0.506849             77   \n",
       "2           285                  0.335689            130   \n",
       "3           112                  0.533333             62   \n",
       "4           255                  0.425000            165   \n",
       "\n",
       "   synonym_words/total_words  unstemmed  stemmed  score  \n",
       "0                   0.246479        424      412      4  \n",
       "1                   0.263699        356      345      4  \n",
       "2                   0.153121        750      750      4  \n",
       "3                   0.295238        217      209      3  \n",
       "4                   0.275000        702      677      4  "
      ]
     },
     "execution_count": 3,
     "metadata": {},
     "output_type": "execute_result"
    }
   ],
   "source": [
    "df.head()"
   ]
  },
  {
   "cell_type": "code",
   "execution_count": 4,
   "id": "dd049741",
   "metadata": {},
   "outputs": [
    {
     "data": {
      "text/plain": [
       "(1332, 19)"
      ]
     },
     "execution_count": 4,
     "metadata": {},
     "output_type": "execute_result"
    }
   ],
   "source": [
    "df.shape\n"
   ]
  },
  {
   "cell_type": "code",
   "execution_count": 5,
   "id": "4fe6e84d",
   "metadata": {},
   "outputs": [
    {
     "data": {
      "text/html": [
       "<div>\n",
       "<style scoped>\n",
       "    .dataframe tbody tr th:only-of-type {\n",
       "        vertical-align: middle;\n",
       "    }\n",
       "\n",
       "    .dataframe tbody tr th {\n",
       "        vertical-align: top;\n",
       "    }\n",
       "\n",
       "    .dataframe thead th {\n",
       "        text-align: right;\n",
       "    }\n",
       "</style>\n",
       "<table border=\"1\" class=\"dataframe\">\n",
       "  <thead>\n",
       "    <tr style=\"text-align: right;\">\n",
       "      <th></th>\n",
       "      <th>essayid</th>\n",
       "      <th>chars</th>\n",
       "      <th>words</th>\n",
       "      <th>commas</th>\n",
       "      <th>apostrophes</th>\n",
       "      <th>punctuations</th>\n",
       "      <th>avg_word_length</th>\n",
       "      <th>sentences</th>\n",
       "      <th>questions</th>\n",
       "      <th>avg_word_sentence</th>\n",
       "      <th>POS</th>\n",
       "      <th>POS/total_words</th>\n",
       "      <th>prompt_words</th>\n",
       "      <th>prompt_words/total_words</th>\n",
       "      <th>synonym_words</th>\n",
       "      <th>synonym_words/total_words</th>\n",
       "      <th>unstemmed</th>\n",
       "      <th>stemmed</th>\n",
       "      <th>score</th>\n",
       "    </tr>\n",
       "  </thead>\n",
       "  <tbody>\n",
       "    <tr>\n",
       "      <th>count</th>\n",
       "      <td>1332.00000</td>\n",
       "      <td>1332.000000</td>\n",
       "      <td>1332.000000</td>\n",
       "      <td>1332.000000</td>\n",
       "      <td>1332.000000</td>\n",
       "      <td>1332.00000</td>\n",
       "      <td>1332.000000</td>\n",
       "      <td>1332.000000</td>\n",
       "      <td>1332.000000</td>\n",
       "      <td>1332.000000</td>\n",
       "      <td>1332.000000</td>\n",
       "      <td>1332.000000</td>\n",
       "      <td>1332.000000</td>\n",
       "      <td>1332.000000</td>\n",
       "      <td>1332.00000</td>\n",
       "      <td>1332.000000</td>\n",
       "      <td>1332.000000</td>\n",
       "      <td>1332.000000</td>\n",
       "      <td>1332.000000</td>\n",
       "    </tr>\n",
       "    <tr>\n",
       "      <th>mean</th>\n",
       "      <td>905.27027</td>\n",
       "      <td>2101.745495</td>\n",
       "      <td>424.485736</td>\n",
       "      <td>14.667417</td>\n",
       "      <td>8.141141</td>\n",
       "      <td>0.47973</td>\n",
       "      <td>4.939762</td>\n",
       "      <td>19.704204</td>\n",
       "      <td>1.222973</td>\n",
       "      <td>23.884687</td>\n",
       "      <td>420.596542</td>\n",
       "      <td>0.989935</td>\n",
       "      <td>198.913664</td>\n",
       "      <td>0.469164</td>\n",
       "      <td>110.16967</td>\n",
       "      <td>0.263846</td>\n",
       "      <td>468.987988</td>\n",
       "      <td>455.507508</td>\n",
       "      <td>3.427177</td>\n",
       "    </tr>\n",
       "    <tr>\n",
       "      <th>std</th>\n",
       "      <td>526.68760</td>\n",
       "      <td>865.963750</td>\n",
       "      <td>171.873730</td>\n",
       "      <td>10.920781</td>\n",
       "      <td>6.124520</td>\n",
       "      <td>1.27168</td>\n",
       "      <td>0.231071</td>\n",
       "      <td>19.202731</td>\n",
       "      <td>1.847446</td>\n",
       "      <td>11.160020</td>\n",
       "      <td>170.985111</td>\n",
       "      <td>0.007308</td>\n",
       "      <td>82.729266</td>\n",
       "      <td>0.052466</td>\n",
       "      <td>43.96192</td>\n",
       "      <td>0.038870</td>\n",
       "      <td>159.447449</td>\n",
       "      <td>155.751220</td>\n",
       "      <td>0.774275</td>\n",
       "    </tr>\n",
       "    <tr>\n",
       "      <th>min</th>\n",
       "      <td>0.00000</td>\n",
       "      <td>169.000000</td>\n",
       "      <td>36.000000</td>\n",
       "      <td>0.000000</td>\n",
       "      <td>2.000000</td>\n",
       "      <td>0.00000</td>\n",
       "      <td>2.231322</td>\n",
       "      <td>0.000000</td>\n",
       "      <td>0.000000</td>\n",
       "      <td>1.084112</td>\n",
       "      <td>35.647059</td>\n",
       "      <td>0.924771</td>\n",
       "      <td>14.000000</td>\n",
       "      <td>0.288889</td>\n",
       "      <td>11.00000</td>\n",
       "      <td>0.027299</td>\n",
       "      <td>48.000000</td>\n",
       "      <td>50.000000</td>\n",
       "      <td>1.000000</td>\n",
       "    </tr>\n",
       "    <tr>\n",
       "      <th>25%</th>\n",
       "      <td>442.75000</td>\n",
       "      <td>1527.250000</td>\n",
       "      <td>310.000000</td>\n",
       "      <td>7.000000</td>\n",
       "      <td>4.000000</td>\n",
       "      <td>0.00000</td>\n",
       "      <td>4.791679</td>\n",
       "      <td>13.000000</td>\n",
       "      <td>0.000000</td>\n",
       "      <td>19.142857</td>\n",
       "      <td>305.406284</td>\n",
       "      <td>0.987758</td>\n",
       "      <td>144.000000</td>\n",
       "      <td>0.435709</td>\n",
       "      <td>81.00000</td>\n",
       "      <td>0.238423</td>\n",
       "      <td>361.000000</td>\n",
       "      <td>350.750000</td>\n",
       "      <td>3.000000</td>\n",
       "    </tr>\n",
       "    <tr>\n",
       "      <th>50%</th>\n",
       "      <td>914.50000</td>\n",
       "      <td>2029.500000</td>\n",
       "      <td>411.000000</td>\n",
       "      <td>13.000000</td>\n",
       "      <td>6.000000</td>\n",
       "      <td>0.00000</td>\n",
       "      <td>4.946059</td>\n",
       "      <td>18.000000</td>\n",
       "      <td>1.000000</td>\n",
       "      <td>22.030331</td>\n",
       "      <td>406.982869</td>\n",
       "      <td>0.991572</td>\n",
       "      <td>193.000000</td>\n",
       "      <td>0.465852</td>\n",
       "      <td>107.50000</td>\n",
       "      <td>0.262872</td>\n",
       "      <td>463.000000</td>\n",
       "      <td>448.000000</td>\n",
       "      <td>3.000000</td>\n",
       "    </tr>\n",
       "    <tr>\n",
       "      <th>75%</th>\n",
       "      <td>1369.75000</td>\n",
       "      <td>2613.500000</td>\n",
       "      <td>525.000000</td>\n",
       "      <td>21.000000</td>\n",
       "      <td>11.000000</td>\n",
       "      <td>0.00000</td>\n",
       "      <td>5.092938</td>\n",
       "      <td>24.000000</td>\n",
       "      <td>2.000000</td>\n",
       "      <td>26.048234</td>\n",
       "      <td>520.739458</td>\n",
       "      <td>0.994425</td>\n",
       "      <td>246.000000</td>\n",
       "      <td>0.500000</td>\n",
       "      <td>134.00000</td>\n",
       "      <td>0.288277</td>\n",
       "      <td>581.000000</td>\n",
       "      <td>561.250000</td>\n",
       "      <td>4.000000</td>\n",
       "    </tr>\n",
       "    <tr>\n",
       "      <th>max</th>\n",
       "      <td>1799.00000</td>\n",
       "      <td>6142.000000</td>\n",
       "      <td>1170.000000</td>\n",
       "      <td>72.000000</td>\n",
       "      <td>51.000000</td>\n",
       "      <td>26.00000</td>\n",
       "      <td>5.681429</td>\n",
       "      <td>642.000000</td>\n",
       "      <td>17.000000</td>\n",
       "      <td>303.000000</td>\n",
       "      <td>1158.984563</td>\n",
       "      <td>1.000000</td>\n",
       "      <td>669.000000</td>\n",
       "      <td>0.961207</td>\n",
       "      <td>355.00000</td>\n",
       "      <td>0.465517</td>\n",
       "      <td>750.000000</td>\n",
       "      <td>750.000000</td>\n",
       "      <td>6.000000</td>\n",
       "    </tr>\n",
       "  </tbody>\n",
       "</table>\n",
       "</div>"
      ],
      "text/plain": [
       "          essayid        chars        words       commas  apostrophes  \\\n",
       "count  1332.00000  1332.000000  1332.000000  1332.000000  1332.000000   \n",
       "mean    905.27027  2101.745495   424.485736    14.667417     8.141141   \n",
       "std     526.68760   865.963750   171.873730    10.920781     6.124520   \n",
       "min       0.00000   169.000000    36.000000     0.000000     2.000000   \n",
       "25%     442.75000  1527.250000   310.000000     7.000000     4.000000   \n",
       "50%     914.50000  2029.500000   411.000000    13.000000     6.000000   \n",
       "75%    1369.75000  2613.500000   525.000000    21.000000    11.000000   \n",
       "max    1799.00000  6142.000000  1170.000000    72.000000    51.000000   \n",
       "\n",
       "       punctuations  avg_word_length    sentences    questions  \\\n",
       "count    1332.00000      1332.000000  1332.000000  1332.000000   \n",
       "mean        0.47973         4.939762    19.704204     1.222973   \n",
       "std         1.27168         0.231071    19.202731     1.847446   \n",
       "min         0.00000         2.231322     0.000000     0.000000   \n",
       "25%         0.00000         4.791679    13.000000     0.000000   \n",
       "50%         0.00000         4.946059    18.000000     1.000000   \n",
       "75%         0.00000         5.092938    24.000000     2.000000   \n",
       "max        26.00000         5.681429   642.000000    17.000000   \n",
       "\n",
       "       avg_word_sentence          POS  POS/total_words  prompt_words  \\\n",
       "count        1332.000000  1332.000000      1332.000000   1332.000000   \n",
       "mean           23.884687   420.596542         0.989935    198.913664   \n",
       "std            11.160020   170.985111         0.007308     82.729266   \n",
       "min             1.084112    35.647059         0.924771     14.000000   \n",
       "25%            19.142857   305.406284         0.987758    144.000000   \n",
       "50%            22.030331   406.982869         0.991572    193.000000   \n",
       "75%            26.048234   520.739458         0.994425    246.000000   \n",
       "max           303.000000  1158.984563         1.000000    669.000000   \n",
       "\n",
       "       prompt_words/total_words  synonym_words  synonym_words/total_words  \\\n",
       "count               1332.000000     1332.00000                1332.000000   \n",
       "mean                   0.469164      110.16967                   0.263846   \n",
       "std                    0.052466       43.96192                   0.038870   \n",
       "min                    0.288889       11.00000                   0.027299   \n",
       "25%                    0.435709       81.00000                   0.238423   \n",
       "50%                    0.465852      107.50000                   0.262872   \n",
       "75%                    0.500000      134.00000                   0.288277   \n",
       "max                    0.961207      355.00000                   0.465517   \n",
       "\n",
       "         unstemmed      stemmed        score  \n",
       "count  1332.000000  1332.000000  1332.000000  \n",
       "mean    468.987988   455.507508     3.427177  \n",
       "std     159.447449   155.751220     0.774275  \n",
       "min      48.000000    50.000000     1.000000  \n",
       "25%     361.000000   350.750000     3.000000  \n",
       "50%     463.000000   448.000000     3.000000  \n",
       "75%     581.000000   561.250000     4.000000  \n",
       "max     750.000000   750.000000     6.000000  "
      ]
     },
     "execution_count": 5,
     "metadata": {},
     "output_type": "execute_result"
    }
   ],
   "source": [
    "df.describe()"
   ]
  },
  {
   "cell_type": "code",
   "execution_count": 6,
   "id": "dc6d052b",
   "metadata": {},
   "outputs": [
    {
     "data": {
      "text/plain": [
       "4    583\n",
       "3    557\n",
       "2    110\n",
       "5     60\n",
       "1     18\n",
       "6      4\n",
       "Name: score, dtype: int64"
      ]
     },
     "execution_count": 6,
     "metadata": {},
     "output_type": "execute_result"
    }
   ],
   "source": [
    "df['score'].value_counts()"
   ]
  },
  {
   "cell_type": "markdown",
   "id": "75614e5e",
   "metadata": {},
   "source": [
    "From analysing the data above in df we know there are 1332 essays submitted with 19 fields to describe each essay features numerically. The essays has a score of 4 as majority of the scores and has an average of 424.5 words for each one."
   ]
  },
  {
   "cell_type": "markdown",
   "id": "25461f76",
   "metadata": {},
   "source": [
    "## 2. Supervised Learning"
   ]
  },
  {
   "cell_type": "markdown",
   "id": "8f92a5d7",
   "metadata": {},
   "source": [
    "### 2.1 Supervised Machine Learning, Labelled Data, and Train-Test Split\n",
    "\n",
    "#### Supervised machine learning\n",
    "This is a type of machine learning where the algorithm is trained on a labelled dataset. The goal is for the model to learn a mapping from inputs to outputs and then make accurate predictions on unseen data.\n",
    "\n",
    "#### Labelled Data\n",
    "In supervised learning, the data is separated into two categories:\n",
    "- **Features** : These are the measurable attributes or variables (e.g. word count, sentence length).\n",
    "- **Labels** : These are the correct answers we want the model to predict(e.g. the essay score)\n",
    "We call these data labelled data since they are known.\n",
    "\n",
    "#### Training and Test Datasets\n",
    "To evaluate how well a supervised model performs, the labelled dataset is split into two subsets:\n",
    "- **Training Set**: Used to train the model. It typically contains 70–80% of the total data. The model learns patterns from this subset.\n",
    "- **Test Set**: Used to evaluate the model’s performance on unseen data. This helps us understand how well the model generalizes to new examples, rather than just memorizing the training data.\n",
    "\n",
    "Splitting the data this way ensures a fair and unbiased estimate of the model’s predictive power.\n"
   ]
  },
  {
   "cell_type": "markdown",
   "id": "2dd41d28",
   "metadata": {},
   "source": [
    "### 2.2 Separate the features and the label"
   ]
  },
  {
   "cell_type": "code",
   "execution_count": 7,
   "id": "ce1745db",
   "metadata": {
    "scrolled": true
   },
   "outputs": [
    {
     "name": "stdout",
     "output_type": "stream",
     "text": [
      "Features shape: (1332, 17)\n",
      "Label shape: (1332,)\n"
     ]
    }
   ],
   "source": [
    "\n",
    "# The target variable\n",
    "y = df['score']\n",
    "\n",
    "# The predictor variables (drop 'score' and 'essayid')\n",
    "X = df.drop(columns=['essayid', 'score'])\n",
    "\n",
    "# Display the shapes to confirm\n",
    "print(\"Features shape:\", X.shape)\n",
    "print(\"Label shape:\", y.shape)\n"
   ]
  },
  {
   "cell_type": "markdown",
   "id": "e2964a14",
   "metadata": {},
   "source": [
    "### 2.3 Feature selection"
   ]
  },
  {
   "cell_type": "code",
   "execution_count": 8,
   "id": "713a75a2",
   "metadata": {},
   "outputs": [
    {
     "name": "stdout",
     "output_type": "stream",
     "text": [
      "Correlation of each feature with 'score':\n",
      "\n",
      "score                        1.000000\n",
      "unstemmed                    0.697187\n",
      "stemmed                      0.696776\n",
      "chars                        0.683983\n",
      "POS                          0.662823\n",
      "words                        0.662091\n",
      "prompt_words                 0.641119\n",
      "synonym_words                0.578352\n",
      "commas                       0.525055\n",
      "avg_word_length              0.327814\n",
      "apostrophes                  0.322052\n",
      "POS/total_words              0.311555\n",
      "questions                    0.277392\n",
      "sentences                    0.230895\n",
      "punctuations                 0.157976\n",
      "prompt_words/total_words     0.026646\n",
      "avg_word_sentence           -0.113036\n",
      "synonym_words/total_words   -0.305405\n",
      "Name: score, dtype: float64\n"
     ]
    }
   ],
   "source": [
    "# Calculate correlation with target 'score'\n",
    "correlation_with_score = df.drop(columns=['essayid']).corr()['score'].sort_values(ascending=False)\n",
    "\n",
    "# Display the correlations\n",
    "print(\"Correlation of each feature with 'score':\\n\")\n",
    "print(correlation_with_score)\n"
   ]
  },
  {
   "cell_type": "code",
   "execution_count": 9,
   "id": "da5b627c",
   "metadata": {},
   "outputs": [
    {
     "name": "stdout",
     "output_type": "stream",
     "text": [
      "Remaining features after selection: 16\n"
     ]
    }
   ],
   "source": [
    "# Drop weakly correlated features\n",
    "weak_features = ['prompt_words/total_words']\n",
    "X_selected = X.drop(columns=weak_features)\n",
    "\n",
    "print(\"Remaining features after selection:\", X_selected.shape[1])\n"
   ]
  },
  {
   "cell_type": "markdown",
   "id": "9bf5c22b",
   "metadata": {},
   "source": [
    "### Using Cross Validation on the raw X data"
   ]
  },
  {
   "cell_type": "code",
   "execution_count": 10,
   "id": "4e2417fc",
   "metadata": {},
   "outputs": [
    {
     "name": "stderr",
     "output_type": "stream",
     "text": [
      "C:\\Users\\ausha\\Downloads\\anaconda\\Lib\\site-packages\\sklearn\\model_selection\\_split.py:725: UserWarning: The least populated class in y has only 4 members, which is less than n_splits=5.\n",
      "  warnings.warn(\n",
      "C:\\Users\\ausha\\Downloads\\anaconda\\Lib\\site-packages\\sklearn\\model_selection\\_split.py:725: UserWarning: The least populated class in y has only 4 members, which is less than n_splits=5.\n",
      "  warnings.warn(\n"
     ]
    },
    {
     "name": "stdout",
     "output_type": "stream",
     "text": [
      "Naive Bayes CV QWK (mean): 0.6462547319476355\n",
      "Random Forest CV QWK (mean): 0.6488092989194421\n"
     ]
    }
   ],
   "source": [
    "from sklearn.model_selection import cross_val_score\n",
    "from sklearn.metrics import make_scorer, cohen_kappa_score\n",
    "from sklearn.naive_bayes import GaussianNB\n",
    "from sklearn.ensemble import RandomForestClassifier\n",
    "from sklearn.preprocessing import MinMaxScaler\n",
    "\n",
    "\n",
    "# Custom scorer using QWK\n",
    "qwk_scorer = make_scorer(cohen_kappa_score, weights='quadratic')\n",
    "\n",
    "# Re-scale all data for Naive Bayes \n",
    "scaler_cv = MinMaxScaler()\n",
    "X_scaled_full = scaler_cv.fit_transform(X_selected)\n",
    "\n",
    "# Initialize models\n",
    "nb_model = GaussianNB()\n",
    "rf_model = RandomForestClassifier(random_state=42)\n",
    "\n",
    "# Cross-validation for Naive Bayes (on scaled data)\n",
    "nb_cv_scores = cross_val_score(nb_model, X_scaled_full, y, cv=5, scoring=qwk_scorer)\n",
    "print(\"Naive Bayes CV QWK (mean):\", np.mean(nb_cv_scores))\n",
    "\n",
    "# Cross-validation for Random Forest (on unscaled data)\n",
    "rf_cv_scores = cross_val_score(rf_model, X_selected, y, cv=5, scoring=qwk_scorer)\n",
    "print(\"Random Forest CV QWK (mean):\", np.mean(rf_cv_scores))\n",
    "\n"
   ]
  },
  {
   "cell_type": "markdown",
   "id": "ecb82d8e",
   "metadata": {},
   "source": [
    "#### Cross-Validation Model Comparison\n",
    "\n",
    "To compare Naive Bayes and Random Forest fairly, I used 5-fold cross-validation with Quadratic Weighted Kappa (QWK) as the scoring metric:\n",
    "\n",
    "- **Naive Bayes**: Mean QWK = 0.6463\n",
    "- **Random Forest**: Mean QWK = 0.6488\n",
    "\n",
    "The scores are close, but Random Forest performed slightly better on average. Based on this, I selected Random Forest as the final model for my Kaggle submission which we will do in the 5th section.\n"
   ]
  },
  {
   "cell_type": "markdown",
   "id": "92351e30",
   "metadata": {},
   "source": [
    "### 2.4 Splitting the data for training and testing"
   ]
  },
  {
   "cell_type": "code",
   "execution_count": 11,
   "id": "b179b999",
   "metadata": {},
   "outputs": [
    {
     "name": "stdout",
     "output_type": "stream",
     "text": [
      "Training set size: (1065, 16)\n",
      "Test set size: (267, 16)\n"
     ]
    }
   ],
   "source": [
    "from sklearn.model_selection import train_test_split\n",
    "\n",
    "# Split the selected features and labels into training and test sets\n",
    "X_train, X_test, y_train, y_test = train_test_split(X_selected, y, test_size=0.2, random_state=42, stratify=y)\n",
    "\n",
    "# Check the shape of the splits\n",
    "print(\"Training set size:\", X_train.shape)\n",
    "print(\"Test set size:\", X_test.shape)\n"
   ]
  },
  {
   "cell_type": "markdown",
   "id": "4e1a8a93",
   "metadata": {},
   "source": [
    "### The parameters used in the function are:\n",
    "- `X_selected, y`: These are the features and labels to be split respectively.\n",
    "- `test_size=0.2`: This means that 20% of the data is for testing and the remaining 80% will be used for training.\n",
    "- `random_state=42`: Sets a fixed random seed so that the split is reproducible. \n",
    "- `stratify=y`: Ensures that the class distribution of the target variable (`score`) is preserved in both the training and test sets. \n"
   ]
  },
  {
   "cell_type": "markdown",
   "id": "42896ec5",
   "metadata": {},
   "source": [
    "## 3. Classification"
   ]
  },
  {
   "cell_type": "markdown",
   "id": "de400d36",
   "metadata": {},
   "source": [
    "### 3.1 The difference between binary and multi-class classification\n",
    "Binary classification involves predicting one of two possible classes, such as spam vs. not spam. In contrast, multi-class classification involves predicting one of three or more classes, like classifying digits from 0 to 9. Binary tasks are simpler and often use models like logistic regression with a single output, while multi-class tasks require models that handle multiple outputs. Evaluation also differs, with binary using metrics like precision and recall, and multi-class using accuracy and macro/micro-averaged scores.\n",
    "\n",
    "In this coursework, we are dealing with a multi-class classification problem because the essay scores can be one of several classes (ranging from 1 to 6), not just two. \n"
   ]
  },
  {
   "cell_type": "markdown",
   "id": "774c3cfa",
   "metadata": {},
   "source": [
    "### 3.2 Normalising the data\n",
    "\n",
    "### 3.2.1 The need to normalise data\n",
    "Normalisation is important for Naive Bayes because it works best when all features are on a similar scale. If one feature has values that are much larger than the others (e.g., chars compared to POS/total_words), it might dominate the model's calculations, even if it’s not more important. By scaling everything to a common range, like 0 to 1, we make sure that each feature contributes fairly. \n",
    "\n",
    "### 3.2.2 Scaling the data\n"
   ]
  },
  {
   "cell_type": "code",
   "execution_count": 12,
   "id": "5cc4acef",
   "metadata": {},
   "outputs": [],
   "source": [
    "from sklearn.preprocessing import MinMaxScaler\n",
    "\n",
    "# Initialise and apply the scaler\n",
    "scaler = MinMaxScaler()\n",
    "X_train = scaler.fit_transform(X_train) # Learns from training data\n",
    "X_test = scaler.transform(X_test) # Just applies scaling; no learning here"
   ]
  },
  {
   "cell_type": "markdown",
   "id": "f49844f9",
   "metadata": {},
   "source": [
    "### 3.3 Naive Bayes (NB) algorithm"
   ]
  },
  {
   "cell_type": "markdown",
   "id": "a7c084bb",
   "metadata": {},
   "source": [
    "### 3.3.1 Describing Naive Bayes"
   ]
  },
  {
   "cell_type": "markdown",
   "id": "f3ade555",
   "metadata": {},
   "source": [
    "Naive Bayes is a simple classification algorithm that’s based on Bayes' Theorem. It works by calculating the probability of each class given the input features and then picks the class with the highest probability. The \"naive\" part comes from the assumption that all the features are independent from each other, which isn’t usually true in real life but still works surprisingly well. It’s especially useful for problems like text classification or when there are a lot of feature for example like this set of data we are dealing with.\n"
   ]
  },
  {
   "cell_type": "markdown",
   "id": "38280930",
   "metadata": {},
   "source": [
    "### 3.3.2 Comparing the Naive Bayes Models in `sklearn.naive_bayes`\n",
    "\n",
    "There are four main Naive Bayes models available in `sklearn.naive_bayes`, and each one is designed for different types of data:\n",
    "\n",
    "1. **GaussianNB**: Used when features are continuous and follow a normal (Gaussian) distribution. It’s a good choice for numerical data that has been scaled or standardized.\n",
    "\n",
    "2. **MultinomialNB**: Typically used for count data, such as word frequencies in text classification problems.\n",
    "\n",
    "3. **BernoulliNB**: Works with binary (0 or 1) features, and is also used in text classification when features indicate presence or absence of terms.\n",
    "\n",
    "4. **ComplementNB**: A variation of MultinomialNB that is designed to perform better with imbalanced data. It’s particularly useful in text classification.\n",
    "\n",
    "For this coursework, **GaussianNB** is the most suitable model because all the features are continuous and numeric (e.g., word counts, sentence lengths, proportions). Since the features have also been normalized, they align well with the assumptions made by the Gaussian Naive Bayes model.\n"
   ]
  },
  {
   "cell_type": "markdown",
   "id": "b1c97751",
   "metadata": {},
   "source": [
    "### 3.3.3 Building the model"
   ]
  },
  {
   "cell_type": "code",
   "execution_count": 13,
   "id": "45a37e07",
   "metadata": {},
   "outputs": [
    {
     "data": {
      "text/html": [
       "<style>#sk-container-id-1 {color: black;}#sk-container-id-1 pre{padding: 0;}#sk-container-id-1 div.sk-toggleable {background-color: white;}#sk-container-id-1 label.sk-toggleable__label {cursor: pointer;display: block;width: 100%;margin-bottom: 0;padding: 0.3em;box-sizing: border-box;text-align: center;}#sk-container-id-1 label.sk-toggleable__label-arrow:before {content: \"▸\";float: left;margin-right: 0.25em;color: #696969;}#sk-container-id-1 label.sk-toggleable__label-arrow:hover:before {color: black;}#sk-container-id-1 div.sk-estimator:hover label.sk-toggleable__label-arrow:before {color: black;}#sk-container-id-1 div.sk-toggleable__content {max-height: 0;max-width: 0;overflow: hidden;text-align: left;background-color: #f0f8ff;}#sk-container-id-1 div.sk-toggleable__content pre {margin: 0.2em;color: black;border-radius: 0.25em;background-color: #f0f8ff;}#sk-container-id-1 input.sk-toggleable__control:checked~div.sk-toggleable__content {max-height: 200px;max-width: 100%;overflow: auto;}#sk-container-id-1 input.sk-toggleable__control:checked~label.sk-toggleable__label-arrow:before {content: \"▾\";}#sk-container-id-1 div.sk-estimator input.sk-toggleable__control:checked~label.sk-toggleable__label {background-color: #d4ebff;}#sk-container-id-1 div.sk-label input.sk-toggleable__control:checked~label.sk-toggleable__label {background-color: #d4ebff;}#sk-container-id-1 input.sk-hidden--visually {border: 0;clip: rect(1px 1px 1px 1px);clip: rect(1px, 1px, 1px, 1px);height: 1px;margin: -1px;overflow: hidden;padding: 0;position: absolute;width: 1px;}#sk-container-id-1 div.sk-estimator {font-family: monospace;background-color: #f0f8ff;border: 1px dotted black;border-radius: 0.25em;box-sizing: border-box;margin-bottom: 0.5em;}#sk-container-id-1 div.sk-estimator:hover {background-color: #d4ebff;}#sk-container-id-1 div.sk-parallel-item::after {content: \"\";width: 100%;border-bottom: 1px solid gray;flex-grow: 1;}#sk-container-id-1 div.sk-label:hover label.sk-toggleable__label {background-color: #d4ebff;}#sk-container-id-1 div.sk-serial::before {content: \"\";position: absolute;border-left: 1px solid gray;box-sizing: border-box;top: 0;bottom: 0;left: 50%;z-index: 0;}#sk-container-id-1 div.sk-serial {display: flex;flex-direction: column;align-items: center;background-color: white;padding-right: 0.2em;padding-left: 0.2em;position: relative;}#sk-container-id-1 div.sk-item {position: relative;z-index: 1;}#sk-container-id-1 div.sk-parallel {display: flex;align-items: stretch;justify-content: center;background-color: white;position: relative;}#sk-container-id-1 div.sk-item::before, #sk-container-id-1 div.sk-parallel-item::before {content: \"\";position: absolute;border-left: 1px solid gray;box-sizing: border-box;top: 0;bottom: 0;left: 50%;z-index: -1;}#sk-container-id-1 div.sk-parallel-item {display: flex;flex-direction: column;z-index: 1;position: relative;background-color: white;}#sk-container-id-1 div.sk-parallel-item:first-child::after {align-self: flex-end;width: 50%;}#sk-container-id-1 div.sk-parallel-item:last-child::after {align-self: flex-start;width: 50%;}#sk-container-id-1 div.sk-parallel-item:only-child::after {width: 0;}#sk-container-id-1 div.sk-dashed-wrapped {border: 1px dashed gray;margin: 0 0.4em 0.5em 0.4em;box-sizing: border-box;padding-bottom: 0.4em;background-color: white;}#sk-container-id-1 div.sk-label label {font-family: monospace;font-weight: bold;display: inline-block;line-height: 1.2em;}#sk-container-id-1 div.sk-label-container {text-align: center;}#sk-container-id-1 div.sk-container {/* jupyter's `normalize.less` sets `[hidden] { display: none; }` but bootstrap.min.css set `[hidden] { display: none !important; }` so we also need the `!important` here to be able to override the default hidden behavior on the sphinx rendered scikit-learn.org. See: https://github.com/scikit-learn/scikit-learn/issues/21755 */display: inline-block !important;position: relative;}#sk-container-id-1 div.sk-text-repr-fallback {display: none;}</style><div id=\"sk-container-id-1\" class=\"sk-top-container\"><div class=\"sk-text-repr-fallback\"><pre>GaussianNB()</pre><b>In a Jupyter environment, please rerun this cell to show the HTML representation or trust the notebook. <br />On GitHub, the HTML representation is unable to render, please try loading this page with nbviewer.org.</b></div><div class=\"sk-container\" hidden><div class=\"sk-item\"><div class=\"sk-estimator sk-toggleable\"><input class=\"sk-toggleable__control sk-hidden--visually\" id=\"sk-estimator-id-1\" type=\"checkbox\" checked><label for=\"sk-estimator-id-1\" class=\"sk-toggleable__label sk-toggleable__label-arrow\">GaussianNB</label><div class=\"sk-toggleable__content\"><pre>GaussianNB()</pre></div></div></div></div></div>"
      ],
      "text/plain": [
       "GaussianNB()"
      ]
     },
     "execution_count": 13,
     "metadata": {},
     "output_type": "execute_result"
    }
   ],
   "source": [
    "from sklearn.naive_bayes import GaussianNB\n",
    "from sklearn.metrics import classification_report, confusion_matrix\n",
    "\n",
    "# Initialize and train the Gaussian Naive Bayes model\n",
    "nb_model = GaussianNB()\n",
    "nb_model.fit(X_train, y_train)\n",
    "\n"
   ]
  },
  {
   "cell_type": "markdown",
   "id": "fe55926d",
   "metadata": {},
   "source": [
    "### 3.4 Predicting the data"
   ]
  },
  {
   "cell_type": "markdown",
   "id": "01d32090",
   "metadata": {},
   "source": [
    "### 3.4.1 Prediction for the 'score' label"
   ]
  },
  {
   "cell_type": "code",
   "execution_count": 14,
   "id": "79ea145b",
   "metadata": {},
   "outputs": [],
   "source": [
    "# Predict the score label by using the testing dataset created before \n",
    "y_pred = nb_model.predict(X_test)\n"
   ]
  },
  {
   "cell_type": "markdown",
   "id": "4ebfdd67",
   "metadata": {},
   "source": [
    "### 3.4.2 Confusion matrix "
   ]
  },
  {
   "cell_type": "code",
   "execution_count": 15,
   "id": "833c8824",
   "metadata": {},
   "outputs": [
    {
     "name": "stdout",
     "output_type": "stream",
     "text": [
      "Confusion Matrix:\n",
      " [[ 3  0  0  0  0  0]\n",
      " [13  5  4  0  0  0]\n",
      " [ 0 19 70 21  2  0]\n",
      " [ 0  1 53 56  6  1]\n",
      " [ 0  0  0  4  8  0]\n",
      " [ 0  0  0  1  0  0]]\n",
      "\n",
      "Classification Report:\n",
      "               precision    recall  f1-score   support\n",
      "\n",
      "           1       0.19      1.00      0.32         3\n",
      "           2       0.20      0.23      0.21        22\n",
      "           3       0.55      0.62      0.59       112\n",
      "           4       0.68      0.48      0.56       117\n",
      "           5       0.50      0.67      0.57        12\n",
      "           6       0.00      0.00      0.00         1\n",
      "\n",
      "    accuracy                           0.53       267\n",
      "   macro avg       0.35      0.50      0.37       267\n",
      "weighted avg       0.57      0.53      0.54       267\n",
      "\n"
     ]
    },
    {
     "data": {
      "image/png": "[encoded data removed]",
      "text/plain": [
       "<Figure size 640x480 with 2 Axes>"
      ]
     },
     "metadata": {},
     "output_type": "display_data"
    }
   ],
   "source": [
    "from sklearn.metrics import ConfusionMatrixDisplay\n",
    "\n",
    "# Display evaluation results\n",
    "print(\"Confusion Matrix:\\n\", confusion_matrix(y_test, y_pred))\n",
    "print(\"\\nClassification Report:\\n\", classification_report(y_test, y_pred))\n",
    "\n",
    "from sklearn.metrics import ConfusionMatrixDisplay\n",
    "import matplotlib.pyplot as plt\n",
    "\n",
    "# Confusion Matrix plot for Naive Bayes\n",
    "ConfusionMatrixDisplay.from_predictions(y_test, y_pred, display_labels=[1, 2, 3, 4, 5, 6], cmap='Reds')\n",
    "plt.title(\"Confusion Matrix - Naive Bayes\")\n",
    "plt.show()"
   ]
  },
  {
   "cell_type": "markdown",
   "id": "6bd547dc",
   "metadata": {},
   "source": [
    "### 3.4.3 Quadratic Weighted Kappa (QWK)\n"
   ]
  },
  {
   "cell_type": "markdown",
   "id": "4db6fa0f",
   "metadata": {},
   "source": [
    "Quadratic Weighted Kappa (QWK) is a metric that measures how well two sets of ratings agree — in this case, the actual essay scores and the ones predicted by the model. It’s especially useful for problems like this where the scores are ordinal, meaning the order matters (e.g., 1 is worse than 2, and so on up to 6).\n",
    "\n",
    "The key difference between QWK and regular accuracy is that it looks at how far off the prediction is. For example, if the model predicts a 3 instead of a 4, that’s not as bad as predicting a 1 instead of a 6. QWK gives partial credit for being close.\n",
    "\n",
    "The score goes from:\n",
    "\n",
    "- 1 for perfect agreement,\n",
    "\n",
    "- 0 for agreement that’s no better than random,\n",
    "\n",
    "- and negative values if it’s worse than random guessing.\n",
    "\n",
    "Because the scores here are ordered, QWK is a better way to evaluate model performance than just using accuracy."
   ]
  },
  {
   "cell_type": "markdown",
   "id": "39c14bac",
   "metadata": {},
   "source": [
    "### 3.4.4  Obtain the Quadratic Weighted Kappa score"
   ]
  },
  {
   "cell_type": "code",
   "execution_count": 16,
   "id": "06ebc69a",
   "metadata": {},
   "outputs": [
    {
     "name": "stdout",
     "output_type": "stream",
     "text": [
      "Quadratic Weighted Kappa (QWK) Score for naive bayes: 0.6499\n"
     ]
    }
   ],
   "source": [
    "from sklearn.metrics import cohen_kappa_score\n",
    "\n",
    "# Calculate Quadratic Weighted Kappa for naives bayes\n",
    "qwk_score = cohen_kappa_score(y_test, y_pred, weights='quadratic')\n",
    "\n",
    "print(f\"Quadratic Weighted Kappa (QWK) Score for naive bayes: {qwk_score:.4f}\")\n"
   ]
  },
  {
   "cell_type": "markdown",
   "id": "c8a310ce",
   "metadata": {},
   "source": [
    "## 3.5. Using Random Forest to build an alternative model"
   ]
  },
  {
   "cell_type": "markdown",
   "id": "4998a4d8",
   "metadata": {},
   "source": [
    "### 3.5.1 Building, predicting, evaluating and getting the QWK score for the RandomForest model"
   ]
  },
  {
   "cell_type": "code",
   "execution_count": 17,
   "id": "175a33a5",
   "metadata": {},
   "outputs": [
    {
     "name": "stdout",
     "output_type": "stream",
     "text": [
      "Confusion Matrix:\n",
      " [[ 1  2  0  0  0  0]\n",
      " [ 1 13  8  0  0  0]\n",
      " [ 0  3 84 25  0  0]\n",
      " [ 0  0 44 73  0  0]\n",
      " [ 0  0  0 10  2  0]\n",
      " [ 0  0  0  1  0  0]]\n",
      "\n",
      "Classification Report:\n",
      "               precision    recall  f1-score   support\n",
      "\n",
      "           1       0.50      0.33      0.40         3\n",
      "           2       0.72      0.59      0.65        22\n",
      "           3       0.62      0.75      0.68       112\n",
      "           4       0.67      0.62      0.65       117\n",
      "           5       1.00      0.17      0.29        12\n",
      "           6       0.00      0.00      0.00         1\n",
      "\n",
      "    accuracy                           0.65       267\n",
      "   macro avg       0.58      0.41      0.44       267\n",
      "weighted avg       0.66      0.65      0.64       267\n",
      "\n"
     ]
    },
    {
     "name": "stderr",
     "output_type": "stream",
     "text": [
      "C:\\Users\\ausha\\Downloads\\anaconda\\Lib\\site-packages\\sklearn\\metrics\\_classification.py:1469: UndefinedMetricWarning: Precision and F-score are ill-defined and being set to 0.0 in labels with no predicted samples. Use `zero_division` parameter to control this behavior.\n",
      "  _warn_prf(average, modifier, msg_start, len(result))\n",
      "C:\\Users\\ausha\\Downloads\\anaconda\\Lib\\site-packages\\sklearn\\metrics\\_classification.py:1469: UndefinedMetricWarning: Precision and F-score are ill-defined and being set to 0.0 in labels with no predicted samples. Use `zero_division` parameter to control this behavior.\n",
      "  _warn_prf(average, modifier, msg_start, len(result))\n",
      "C:\\Users\\ausha\\Downloads\\anaconda\\Lib\\site-packages\\sklearn\\metrics\\_classification.py:1469: UndefinedMetricWarning: Precision and F-score are ill-defined and being set to 0.0 in labels with no predicted samples. Use `zero_division` parameter to control this behavior.\n",
      "  _warn_prf(average, modifier, msg_start, len(result))\n"
     ]
    },
    {
     "data": {
      "image/png": "[encoded data removed]",
      "text/plain": [
       "<Figure size 640x480 with 2 Axes>"
      ]
     },
     "metadata": {},
     "output_type": "display_data"
    },
    {
     "name": "stdout",
     "output_type": "stream",
     "text": [
      "\n",
      "Quadratic Weighted Kappa (QWK) Score for random forest: 0.6433\n"
     ]
    }
   ],
   "source": [
    "from sklearn.ensemble import RandomForestClassifier\n",
    "from sklearn.metrics import cohen_kappa_score, confusion_matrix, classification_report\n",
    "\n",
    "# Train the Random Forest model\n",
    "rf_model = RandomForestClassifier(random_state=42)\n",
    "rf_model.fit(X_train, y_train)\n",
    "\n",
    "# Predict on the test set\n",
    "rf_pred = rf_model.predict(X_test)\n",
    "\n",
    "# Evaluate the model\n",
    "print(\"Confusion Matrix:\\n\", confusion_matrix(y_test, rf_pred))\n",
    "print(\"\\nClassification Report:\\n\", classification_report(y_test, rf_pred))\n",
    "\n",
    "# Confusion Matrix plot \n",
    "ConfusionMatrixDisplay.from_predictions(y_test, rf_pred, display_labels=[1, 2, 3, 4, 5, 6], cmap='Greens')\n",
    "plt.title(\"Confusion Matrix - Random Forest\")\n",
    "plt.show()\n",
    "\n",
    "\n",
    "# QWK Score\n",
    "rf_qwk = cohen_kappa_score(y_test, rf_pred, weights='quadratic')\n",
    "print(f\"\\nQuadratic Weighted Kappa (QWK) Score for random forest: {rf_qwk:.4f}\")\n"
   ]
  },
  {
   "cell_type": "markdown",
   "id": "318efe02",
   "metadata": {},
   "source": [
    "### 3.5.2 Comparing Random Forest with Naive Bayes\n",
    "\n",
    "Although Random Forest is generally a more flexible and powerful model, it performed slightly worse than Naive Bayes on the test set in this case. This might be because Random Forest tends to rely on more complex patterns and interactions between features, which may not be necessary or fully leveraged in this particular dataset.\n",
    "\n",
    "Naive Bayes, while much simpler, can be surprisingly effective when the features are relatively independent and the distributions are well-behaved — especially after scaling. Since our features are all continuous, normalized, and individually quite predictive, Naive Bayes may have benefited from its straightforward probabilistic approach.\n",
    "\n",
    "In contrast, Random Forest may have underperformed due to the relatively small dataset size and class imbalance, which can affect how well decision trees are constructed. Additionally, since Random Forest doesn’t require feature scaling, using scaled features might have slightly reduced its effectiveness.\n",
    "\n",
    "So while Random Forest is generally the stronger model, Naive Bayes was better suited to the structure of the data in this train-test split and therefore gave a higher QWK score.\n"
   ]
  },
  {
   "cell_type": "markdown",
   "id": "78504998",
   "metadata": {},
   "source": [
    "## 4. Kaggle submission"
   ]
  },
  {
   "cell_type": "code",
   "execution_count": 18,
   "id": "79d8b7d5",
   "metadata": {
    "scrolled": true
   },
   "outputs": [
    {
     "data": {
      "text/html": [
       "<div>\n",
       "<style scoped>\n",
       "    .dataframe tbody tr th:only-of-type {\n",
       "        vertical-align: middle;\n",
       "    }\n",
       "\n",
       "    .dataframe tbody tr th {\n",
       "        vertical-align: top;\n",
       "    }\n",
       "\n",
       "    .dataframe thead th {\n",
       "        text-align: right;\n",
       "    }\n",
       "</style>\n",
       "<table border=\"1\" class=\"dataframe\">\n",
       "  <thead>\n",
       "    <tr style=\"text-align: right;\">\n",
       "      <th></th>\n",
       "      <th>essayid</th>\n",
       "      <th>chars</th>\n",
       "      <th>words</th>\n",
       "      <th>commas</th>\n",
       "      <th>apostrophes</th>\n",
       "      <th>punctuations</th>\n",
       "      <th>avg_word_length</th>\n",
       "      <th>sentences</th>\n",
       "      <th>questions</th>\n",
       "      <th>avg_word_sentence</th>\n",
       "      <th>POS</th>\n",
       "      <th>POS/total_words</th>\n",
       "      <th>prompt_words</th>\n",
       "      <th>prompt_words/total_words</th>\n",
       "      <th>synonym_words</th>\n",
       "      <th>synonym_words/total_words</th>\n",
       "      <th>unstemmed</th>\n",
       "      <th>stemmed</th>\n",
       "    </tr>\n",
       "  </thead>\n",
       "  <tbody>\n",
       "    <tr>\n",
       "      <th>0</th>\n",
       "      <td>1623</td>\n",
       "      <td>4332</td>\n",
       "      <td>900</td>\n",
       "      <td>28</td>\n",
       "      <td>13</td>\n",
       "      <td>0</td>\n",
       "      <td>4.813333</td>\n",
       "      <td>39</td>\n",
       "      <td>1</td>\n",
       "      <td>23.076923</td>\n",
       "      <td>893.988852</td>\n",
       "      <td>0.993321</td>\n",
       "      <td>392</td>\n",
       "      <td>0.435556</td>\n",
       "      <td>196</td>\n",
       "      <td>0.217778</td>\n",
       "      <td>750</td>\n",
       "      <td>750</td>\n",
       "    </tr>\n",
       "    <tr>\n",
       "      <th>1</th>\n",
       "      <td>1143</td>\n",
       "      <td>1465</td>\n",
       "      <td>280</td>\n",
       "      <td>11</td>\n",
       "      <td>3</td>\n",
       "      <td>1</td>\n",
       "      <td>5.232143</td>\n",
       "      <td>14</td>\n",
       "      <td>3</td>\n",
       "      <td>20.000000</td>\n",
       "      <td>278.321343</td>\n",
       "      <td>0.994005</td>\n",
       "      <td>131</td>\n",
       "      <td>0.467857</td>\n",
       "      <td>51</td>\n",
       "      <td>0.182143</td>\n",
       "      <td>339</td>\n",
       "      <td>316</td>\n",
       "    </tr>\n",
       "    <tr>\n",
       "      <th>2</th>\n",
       "      <td>660</td>\n",
       "      <td>1696</td>\n",
       "      <td>325</td>\n",
       "      <td>17</td>\n",
       "      <td>2</td>\n",
       "      <td>0</td>\n",
       "      <td>5.218462</td>\n",
       "      <td>19</td>\n",
       "      <td>1</td>\n",
       "      <td>17.105263</td>\n",
       "      <td>321.316770</td>\n",
       "      <td>0.988667</td>\n",
       "      <td>178</td>\n",
       "      <td>0.547692</td>\n",
       "      <td>92</td>\n",
       "      <td>0.283077</td>\n",
       "      <td>352</td>\n",
       "      <td>337</td>\n",
       "    </tr>\n",
       "    <tr>\n",
       "      <th>3</th>\n",
       "      <td>1596</td>\n",
       "      <td>2640</td>\n",
       "      <td>555</td>\n",
       "      <td>20</td>\n",
       "      <td>17</td>\n",
       "      <td>0</td>\n",
       "      <td>4.756757</td>\n",
       "      <td>28</td>\n",
       "      <td>0</td>\n",
       "      <td>19.821429</td>\n",
       "      <td>551.989150</td>\n",
       "      <td>0.994575</td>\n",
       "      <td>228</td>\n",
       "      <td>0.410811</td>\n",
       "      <td>107</td>\n",
       "      <td>0.192793</td>\n",
       "      <td>632</td>\n",
       "      <td>605</td>\n",
       "    </tr>\n",
       "    <tr>\n",
       "      <th>4</th>\n",
       "      <td>846</td>\n",
       "      <td>2844</td>\n",
       "      <td>596</td>\n",
       "      <td>33</td>\n",
       "      <td>4</td>\n",
       "      <td>1</td>\n",
       "      <td>4.771812</td>\n",
       "      <td>24</td>\n",
       "      <td>9</td>\n",
       "      <td>24.833333</td>\n",
       "      <td>593.658810</td>\n",
       "      <td>0.996072</td>\n",
       "      <td>279</td>\n",
       "      <td>0.468121</td>\n",
       "      <td>138</td>\n",
       "      <td>0.231544</td>\n",
       "      <td>626</td>\n",
       "      <td>607</td>\n",
       "    </tr>\n",
       "  </tbody>\n",
       "</table>\n",
       "</div>"
      ],
      "text/plain": [
       "   essayid  chars  words  commas  apostrophes  punctuations  avg_word_length  \\\n",
       "0     1623   4332    900      28           13             0         4.813333   \n",
       "1     1143   1465    280      11            3             1         5.232143   \n",
       "2      660   1696    325      17            2             0         5.218462   \n",
       "3     1596   2640    555      20           17             0         4.756757   \n",
       "4      846   2844    596      33            4             1         4.771812   \n",
       "\n",
       "   sentences  questions  avg_word_sentence         POS  POS/total_words  \\\n",
       "0         39          1          23.076923  893.988852         0.993321   \n",
       "1         14          3          20.000000  278.321343         0.994005   \n",
       "2         19          1          17.105263  321.316770         0.988667   \n",
       "3         28          0          19.821429  551.989150         0.994575   \n",
       "4         24          9          24.833333  593.658810         0.996072   \n",
       "\n",
       "   prompt_words  prompt_words/total_words  synonym_words  \\\n",
       "0           392                  0.435556            196   \n",
       "1           131                  0.467857             51   \n",
       "2           178                  0.547692             92   \n",
       "3           228                  0.410811            107   \n",
       "4           279                  0.468121            138   \n",
       "\n",
       "   synonym_words/total_words  unstemmed  stemmed  \n",
       "0                   0.217778        750      750  \n",
       "1                   0.182143        339      316  \n",
       "2                   0.283077        352      337  \n",
       "3                   0.192793        632      605  \n",
       "4                   0.231544        626      607  "
      ]
     },
     "execution_count": 18,
     "metadata": {},
     "output_type": "execute_result"
    }
   ],
   "source": [
    "# Load the Kaggle test dataset (no 'score' column)\n",
    "submission_df = pd.read_csv(\"F78DS-Essay-Features-Submission.csv\")\n",
    "\n",
    "# Preview the data\n",
    "submission_df.head()\n"
   ]
  },
  {
   "cell_type": "markdown",
   "id": "2b1ae23e",
   "metadata": {},
   "source": [
    "### Using Naive Bayes to predict the kaggle score data"
   ]
  },
  {
   "cell_type": "code",
   "execution_count": 19,
   "id": "959279d3",
   "metadata": {},
   "outputs": [],
   "source": [
    "# Drop columns not used in the model (same as training)\n",
    "X_kaggle_raw_1 = submission_df.drop(columns=['essayid', 'prompt_words/total_words'])\n",
    "\n",
    "# Apply the previously fitted scaler (don't fit again!)\n",
    "X_kaggle_scaled_1 = scaler.transform(X_kaggle_raw_1)\n",
    "\n",
    "# Predict using Naive Bayes or Random Forest\n",
    "kaggle_pred_1 = nb_model.predict(X_kaggle_scaled_1)  "
   ]
  },
  {
   "cell_type": "code",
   "execution_count": 20,
   "id": "cc7aca88",
   "metadata": {},
   "outputs": [],
   "source": [
    "# Create the submission dataframe\n",
    "submission_output = pd.DataFrame({\n",
    "    'essayid': submission_df['essayid'],\n",
    "    'score': kaggle_pred_1\n",
    "})\n",
    "\n",
    "# Save to CSV (ready for Kaggle)\n",
    "submission_output.to_csv(\"H00453164-Aushat-1.csv\", index=False)\n"
   ]
  },
  {
   "cell_type": "code",
   "execution_count": 21,
   "id": "a3718064",
   "metadata": {},
   "outputs": [],
   "source": [
    "sub1 = pd.read_csv(\"H00453164-Aushat-1.csv\")"
   ]
  },
  {
   "cell_type": "code",
   "execution_count": 22,
   "id": "d50178f7",
   "metadata": {
    "scrolled": false
   },
   "outputs": [
    {
     "data": {
      "text/html": [
       "<div>\n",
       "<style scoped>\n",
       "    .dataframe tbody tr th:only-of-type {\n",
       "        vertical-align: middle;\n",
       "    }\n",
       "\n",
       "    .dataframe tbody tr th {\n",
       "        vertical-align: top;\n",
       "    }\n",
       "\n",
       "    .dataframe thead th {\n",
       "        text-align: right;\n",
       "    }\n",
       "</style>\n",
       "<table border=\"1\" class=\"dataframe\">\n",
       "  <thead>\n",
       "    <tr style=\"text-align: right;\">\n",
       "      <th></th>\n",
       "      <th>essayid</th>\n",
       "      <th>score</th>\n",
       "    </tr>\n",
       "  </thead>\n",
       "  <tbody>\n",
       "    <tr>\n",
       "      <th>0</th>\n",
       "      <td>1623</td>\n",
       "      <td>5</td>\n",
       "    </tr>\n",
       "    <tr>\n",
       "      <th>1</th>\n",
       "      <td>1143</td>\n",
       "      <td>3</td>\n",
       "    </tr>\n",
       "    <tr>\n",
       "      <th>2</th>\n",
       "      <td>660</td>\n",
       "      <td>3</td>\n",
       "    </tr>\n",
       "    <tr>\n",
       "      <th>3</th>\n",
       "      <td>1596</td>\n",
       "      <td>4</td>\n",
       "    </tr>\n",
       "    <tr>\n",
       "      <th>4</th>\n",
       "      <td>846</td>\n",
       "      <td>5</td>\n",
       "    </tr>\n",
       "  </tbody>\n",
       "</table>\n",
       "</div>"
      ],
      "text/plain": [
       "   essayid  score\n",
       "0     1623      5\n",
       "1     1143      3\n",
       "2      660      3\n",
       "3     1596      4\n",
       "4      846      5"
      ]
     },
     "execution_count": 22,
     "metadata": {},
     "output_type": "execute_result"
    }
   ],
   "source": [
    "sub1.head()"
   ]
  },
  {
   "cell_type": "markdown",
   "id": "a805a7ef",
   "metadata": {},
   "source": [
    "### Using Random Forest to predict the kaggle score data"
   ]
  },
  {
   "cell_type": "code",
   "execution_count": 23,
   "id": "505015f4",
   "metadata": {},
   "outputs": [],
   "source": [
    "# Drop columns not used in the model (same as training)\n",
    "X_kaggle_raw_2 = submission_df.drop(columns=['essayid', 'prompt_words/total_words'])\n",
    "\n",
    "# Apply the previously fitted scaler (don't fit again!)\n",
    "X_kaggle_scaled_2 = scaler.transform(X_kaggle_raw_2)\n",
    "\n",
    "# Predict using Random Forest\n",
    "kaggle_pred_2 = rf_model.predict(X_kaggle_scaled_2)  "
   ]
  },
  {
   "cell_type": "code",
   "execution_count": 24,
   "id": "5b9d6e21",
   "metadata": {},
   "outputs": [],
   "source": [
    "# Create the submission dataframe\n",
    "submission_output = pd.DataFrame({\n",
    "    'essayid': submission_df['essayid'],\n",
    "    'score': kaggle_pred_2\n",
    "})\n",
    "\n",
    "# Save to CSV (ready for Kaggle)\n",
    "submission_output.to_csv(\"H00453164-Aushat-2.csv\", index=False)\n"
   ]
  },
  {
   "cell_type": "code",
   "execution_count": 25,
   "id": "dd960ae2",
   "metadata": {},
   "outputs": [],
   "source": [
    "sub2 = pd.read_csv(\"H00453164-Aushat-2.csv\")"
   ]
  },
  {
   "cell_type": "code",
   "execution_count": 26,
   "id": "5314693c",
   "metadata": {
    "scrolled": false
   },
   "outputs": [
    {
     "data": {
      "text/html": [
       "<div>\n",
       "<style scoped>\n",
       "    .dataframe tbody tr th:only-of-type {\n",
       "        vertical-align: middle;\n",
       "    }\n",
       "\n",
       "    .dataframe tbody tr th {\n",
       "        vertical-align: top;\n",
       "    }\n",
       "\n",
       "    .dataframe thead th {\n",
       "        text-align: right;\n",
       "    }\n",
       "</style>\n",
       "<table border=\"1\" class=\"dataframe\">\n",
       "  <thead>\n",
       "    <tr style=\"text-align: right;\">\n",
       "      <th></th>\n",
       "      <th>essayid</th>\n",
       "      <th>score</th>\n",
       "    </tr>\n",
       "  </thead>\n",
       "  <tbody>\n",
       "    <tr>\n",
       "      <th>0</th>\n",
       "      <td>1623</td>\n",
       "      <td>4</td>\n",
       "    </tr>\n",
       "    <tr>\n",
       "      <th>1</th>\n",
       "      <td>1143</td>\n",
       "      <td>3</td>\n",
       "    </tr>\n",
       "    <tr>\n",
       "      <th>2</th>\n",
       "      <td>660</td>\n",
       "      <td>3</td>\n",
       "    </tr>\n",
       "    <tr>\n",
       "      <th>3</th>\n",
       "      <td>1596</td>\n",
       "      <td>4</td>\n",
       "    </tr>\n",
       "    <tr>\n",
       "      <th>4</th>\n",
       "      <td>846</td>\n",
       "      <td>4</td>\n",
       "    </tr>\n",
       "  </tbody>\n",
       "</table>\n",
       "</div>"
      ],
      "text/plain": [
       "   essayid  score\n",
       "0     1623      4\n",
       "1     1143      3\n",
       "2      660      3\n",
       "3     1596      4\n",
       "4      846      4"
      ]
     },
     "execution_count": 26,
     "metadata": {},
     "output_type": "execute_result"
    }
   ],
   "source": [
    "sub2.head()"
   ]
  },
  {
   "cell_type": "markdown",
   "id": "70895643",
   "metadata": {},
   "source": [
    "### Final submission file to kaggle\n",
    "I submitted the \"H00453164-Aushat-2.csv\" file to the kaggle submissions as my final file.\n",
    "This is because I trained both Naive Bayes and Random Forest models, and used cross-validation (QWK score) to compare them fairly. Random Forest performed slightly better on average, so I chose it as my final model.\n",
    "After submitting both models to Kaggle, Random Forest also achieved a higher QWK score on the hidden test set, which supports the decision I made based on cross-validation."
   ]
  },
  {
   "cell_type": "markdown",
   "id": "75bab28b",
   "metadata": {},
   "source": [
    "## 5. Conclusion"
   ]
  },
  {
   "cell_type": "markdown",
   "id": "c4a90133",
   "metadata": {},
   "source": [
    "\n",
    "\n",
    "In this coursework, I applied supervised machine learning techniques to predict essay scores based on a set of structural and linguistic features. After exploring the data and selecting the most relevant features, I built and evaluated two classification models: Naive Bayes and Random Forest.\n",
    "\n",
    "Naive Bayes performed slightly better than Random Forest on the initial test set, likely due to its ability to work well with scaled, independent features. However, cross-validation results showed that Random Forest was more consistent across multiple splits. Based on this, and its better performance on the Kaggle test set, I selected Random Forest as the final model for submission.\n",
    "\n",
    "Overall, this project helped reinforce key steps in the data science life cycle from data preprocessing and feature selection to model evaluation and real-world validation with Kaggle. It also highlighted the importance of model selection based on both cross-validation and actual deployment results.\n"
   ]
  }
 ],
 "metadata": {
  "kernelspec": {
   "display_name": "Python 3 (ipykernel)",
   "language": "python",
   "name": "python3"
  },
  "language_info": {
   "codemirror_mode": {
    "name": "ipython",
    "version": 3
   },
   "file_extension": ".py",
   "mimetype": "text/x-python",
   "name": "python",
   "nbconvert_exporter": "python",
   "pygments_lexer": "ipython3",
   "version": "3.11.4"
  }
 },
 "nbformat": 4,
 "nbformat_minor": 5
}
